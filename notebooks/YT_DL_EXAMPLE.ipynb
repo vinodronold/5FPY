{
 "cells": [
  {
   "cell_type": "code",
   "execution_count": 1,
   "metadata": {
    "collapsed": true
   },
   "outputs": [],
   "source": [
    "from __future__ import unicode_literals\n",
    "import youtube_dl"
   ]
  },
  {
   "cell_type": "code",
   "execution_count": 2,
   "metadata": {
    "collapsed": true
   },
   "outputs": [],
   "source": [
    "class MyLogger(object):\n",
    "    def debug(self, msg):\n",
    "        pass\n",
    "\n",
    "    def warning(self, msg):\n",
    "        pass\n",
    "\n",
    "    def error(self, msg):\n",
    "        print(msg)\n",
    "\n",
    "\n",
    "def my_hook(d):\n",
    "    if d['status'] == 'finished':\n",
    "        print('Done downloading, now converting ...')"
   ]
  },
  {
   "cell_type": "code",
   "execution_count": 3,
   "metadata": {
    "collapsed": false
   },
   "outputs": [
    {
     "name": "stdout",
     "output_type": "stream",
     "text": [
      "Yeno vaanilai maarudhe song lyrics.....AYM\n"
     ]
    }
   ],
   "source": [
    "ydl_opts = {\n",
    "    'format': 'bestaudio/best',\n",
    "    'postprocessors': [{\n",
    "        'key': 'FFmpegExtractAudio',\n",
    "        'preferredcodec': 'mp3',\n",
    "        'preferredquality': '192',\n",
    "    }],\n",
    "    'logger': MyLogger(),\n",
    "    'progress_hooks': [my_hook],\n",
    "}\n",
    "with youtube_dl.YoutubeDL(ydl_opts) as ydl:\n",
    "    meta = ydl.extract_info(\n",
    "        'https://www.youtube.com/watch?v=4mpX7vlz21k', download=False) \n",
    "    #ydl.download(['https://www.youtube.com/watch?v=4mpX7vlz21k'])\n",
    "    print(meta['title'])"
   ]
  },
  {
   "cell_type": "code",
   "execution_count": 11,
   "metadata": {
    "collapsed": false
   },
   "outputs": [
    {
     "name": "stdout",
     "output_type": "stream",
     "text": [
      "{'tracks': {'offset': 0, 'items': [{'duration_ms': 268055, 'type': 'track', 'available_markets': ['AR', 'AU', 'AT', 'BE', 'BO', 'BR', 'BG', 'CA', 'CL', 'CO', 'CR', 'CY', 'CZ', 'DK', 'DO', 'DE', 'EC', 'EE', 'SV', 'FI', 'FR', 'GR', 'GT', 'HN', 'HK', 'HU', 'IS', 'IE', 'IT', 'LV', 'LT', 'LU', 'MY', 'MT', 'MX', 'NL', 'NZ', 'NI', 'NO', 'PA', 'PY', 'PE', 'PH', 'PL', 'PT', 'SG', 'SK', 'ES', 'SE', 'CH', 'TW', 'TR', 'UY', 'US', 'GB', 'AD', 'LI', 'MC', 'ID'], 'href': 'https://api.spotify.com/v1/tracks/6wBXSf1chpnyXGOSvANs0a', 'id': '6wBXSf1chpnyXGOSvANs0a', 'name': 'Thalli Pogathey', 'preview_url': 'https://p.scdn.co/mp3-preview/6fac86ed9442cd2e8ed8247441b605bd4a1983bd', 'popularity': 41, 'uri': 'spotify:track:6wBXSf1chpnyXGOSvANs0a', 'track_number': 5, 'artists': [{'type': 'artist', 'uri': 'spotify:artist:3WZUHKxS1YWk784wn7bdnx', 'href': 'https://api.spotify.com/v1/artists/3WZUHKxS1YWk784wn7bdnx', 'external_urls': {'spotify': 'https://open.spotify.com/artist/3WZUHKxS1YWk784wn7bdnx'}, 'id': '3WZUHKxS1YWk784wn7bdnx', 'name': 'A.R.Rahman,Sid Sriram,Aaryan Dinesh Kanagaratnam'}], 'album': {'type': 'album', 'uri': 'spotify:album:3aqLIJUbfDODyEmvpi5Fni', 'available_markets': ['AR', 'AU', 'AT', 'BE', 'BO', 'BR', 'BG', 'CA', 'CL', 'CO', 'CR', 'CY', 'CZ', 'DK', 'DO', 'DE', 'EC', 'EE', 'SV', 'FI', 'FR', 'GR', 'GT', 'HN', 'HK', 'HU', 'IS', 'IE', 'IT', 'LV', 'LT', 'LU', 'MY', 'MT', 'MX', 'NL', 'NZ', 'NI', 'NO', 'PA', 'PY', 'PE', 'PH', 'PL', 'PT', 'SG', 'SK', 'ES', 'SE', 'CH', 'TW', 'TR', 'UY', 'US', 'GB', 'AD', 'LI', 'MC', 'ID'], 'href': 'https://api.spotify.com/v1/albums/3aqLIJUbfDODyEmvpi5Fni', 'name': 'Achcham Yenbadhu Madamaiyada (Original Motion Picture Soundtrack)', 'external_urls': {'spotify': 'https://open.spotify.com/album/3aqLIJUbfDODyEmvpi5Fni'}, 'images': [{'height': 640, 'width': 640, 'url': 'https://i.scdn.co/image/ff677a7bab215d371687896a8ecd7547ca35ccf8'}, {'height': 300, 'width': 300, 'url': 'https://i.scdn.co/image/9257356ea9d70c0b1523e44c8249e29e664bbc4f'}, {'height': 64, 'width': 64, 'url': 'https://i.scdn.co/image/06e100f204f76e0b15ff1afc7a8c5fc22886084d'}], 'id': '3aqLIJUbfDODyEmvpi5Fni', 'album_type': 'single'}, 'external_urls': {'spotify': 'https://open.spotify.com/track/6wBXSf1chpnyXGOSvANs0a'}, 'explicit': False, 'external_ids': {'isrc': 'MYVS11501088'}, 'disc_number': 1}], 'total': 1, 'href': 'https://api.spotify.com/v1/search?query=Thalli+Pogathey&offset=0&limit=10&type=track', 'next': None, 'previous': None, 'limit': 10}}\n"
     ]
    }
   ],
   "source": [
    "import spotipy\n",
    "\n",
    "sp = spotipy.Spotify()\n",
    "result = sp.search('Thalli Pogathey')\n",
    "print(result)"
   ]
  },
  {
   "cell_type": "code",
   "execution_count": null,
   "metadata": {
    "collapsed": true
   },
   "outputs": [],
   "source": []
  }
 ],
 "metadata": {
  "kernelspec": {
   "display_name": "Python 3",
   "language": "python",
   "name": "python3"
  },
  "language_info": {
   "codemirror_mode": {
    "name": "ipython",
    "version": 3
   },
   "file_extension": ".py",
   "mimetype": "text/x-python",
   "name": "python",
   "nbconvert_exporter": "python",
   "pygments_lexer": "ipython3",
   "version": "3.5.2"
  }
 },
 "nbformat": 4,
 "nbformat_minor": 0
}
