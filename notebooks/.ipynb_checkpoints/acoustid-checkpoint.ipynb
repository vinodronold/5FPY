{
 "cells": [
  {
   "cell_type": "code",
   "execution_count": 21,
   "metadata": {
    "collapsed": false
   },
   "outputs": [],
   "source": [
    "import acoustid\n",
    "import sys\n",
    "\n",
    "API_KEY = 'LZxUcZ7ugb'\n",
    "\n",
    "def aidmatch(filename):\n",
    "    print(filename)\n",
    "    try:\n",
    "        results = acoustid.match(API_KEY, filename, parse=True)\n",
    "    except acoustid.NoBackendError:\n",
    "        print(\"chromaprint library/tool not found\", file=sys.stderr)\n",
    "        sys.exit(1)\n",
    "    except acoustid.FingerprintGenerationError:\n",
    "        print(\"fingerprint could not be calculated\", file=sys.stderr)\n",
    "        sys.exit(1)\n",
    "    except acoustid.WebServiceError as exc:\n",
    "        print(\"web service request failed:\", exc.message, file=sys.stderr)\n",
    "        sys.exit(1)\n",
    "    \n",
    "    print('got result..')\n",
    "    print(results)\n",
    "    first = True\n",
    "    for score, rid, title, artist in results:\n",
    "        if first:\n",
    "            first = False\n",
    "        else:\n",
    "            print()\n",
    "        print('%s - %s' % (artist, title))\n",
    "        print('http://musicbrainz.org/recording/%s' % rid)\n",
    "        print('Score: %i%%' % (int(score * 100)))\n"
   ]
  },
  {
   "cell_type": "code",
   "execution_count": 23,
   "metadata": {
    "collapsed": false
   },
   "outputs": [
    {
     "name": "stdout",
     "output_type": "stream",
     "text": [
      "(280.176, b'AQADtEmSJFESRVFUHFeAEwOONg7xC-dhN6h3zDxMDv9QksJx_HiP1sdz-Blqi3hz_II5BueO61CL2kfz4HvgNUrwo-ko9JGMn8HzgHlGPJvhbcZf3MHRKPqhH3_wG16zD3l6_AGzoxmlHF8Q6w56-EFNRBSHf4j64T6h3XB343KRVuHh_QNz5FJC6AmjINQcRmh0ED_yQ9qVI8yD-mgTBx4THZWXFPmR8DsuPXiiB7_hB8ePvIE-j4gUjoGn4-0R0ymOQ4sdXHihXwnal_gO__gNncQPP9KMK4KP4-eR8viR65kGXyP0dHjw4z9yIod25MSV45R-vLkwJbpu1MtxHeFrodlx8EF5MPlx5-gT4oKv4scPyw9q53iJpqIQPktx3Gh69Ef0fYW-DyHJ4Ng0XnhPuMf-I3WYSUL9QNeBMBWPfps2XNlxVDyarcfV4zy6H0334MKP6mg6xTiuyZgyMmPQ58GPfIqh5UQobsJR2DiOTBe-Q9cDM82LB9IOJ8vx4we2o_bxKFeCD88F8bhyvB_i5WhqdD_2G_GFSmhyDT-e48d5411wDxxF5MK5I8yeKpDyE-fxvPiWHdF2XCh_NCteCmdo_CnCP4H-HGESjbj24ke9Ha6u4GaRODMiUongHz2uBnkMHbGYD48mEyX8boaf4XBtnPnx9qg-Dj9xKRk-BZ9yRNcNLcmP6shp5NkzvDP0JBnibMN1NEf_oDa2B8UVxE7w6NAeuJ6QY9fh6iibEP8QKj-07LiO60KeKQhpHVtE5ZCn4NuR54HHLB36ow-2EpXGBN2owVl09DnyC48DncWXoa_gSMcVnNvgqPiB6bNwaUd4HO54vNFRPUJeqDfxgmnUG6nDI_2C6dAqpP_wjfBRNzkuBdcNaw5yQRd-R7iM5qgN9Td2xA-uKBXSH3R6Q-_xI8xR73hjHpH2w_0uXOGgH_aD8BceHQ_ZSSgPdzzCX_gBHRNZiEU1HKR0fMjRRNqRfdCP9JKP8sXTI8wWycdkZTl-yD5CH38OL2qI9Bnxozs0ax8e_UgVtniQojfqioTHDO1IBaqe4lHx6OizBidlw1RuTPxx00SoGM2PB6eO56gP5hqJPCMu0cdz6GI6uOmDp7iV4G_hHFfyBFoj_MYp-LiOisd5NOGhkUV-PB-P44qHU3GGJgapZSnxI1maZMinZvgXVHsOjymFvg-e49KHc1ICJtGD7sd3wcebC4xhN0fOIOGL5sPzEU-Xo2lQ8QceCel86C9ygfnh-sFj9Adioyk0J8mO0ogUNUQoNNA54fyQJ6jmRBGaC3nzCYp-DUcWFReJn0HIg2ch9wglP2gTinCV6KjU4uExHm4u5Fs06KQw0UfzqESu4jzI7AjFHU0lZdCT4cWXEs24OMEDPdqRi8d1eI-LXsOP7EiW6EenMXjn48OPn3h0lD8-TUfOE_Wh7QWVpzhJpJhaHd8RvvCh83A25L6C67h4dA-u47g2hHGtoaYiF0fzI5L0ok7giWfwpKB0HV9yROuR7B--GF5xesMf7D3-WEjGLEf6H86PWgyaJm5QfsMf5IaeHLlu4yUqHk7Qmwf9I0-kI9GPGz-eKLpxfvCH9zhiKzm-4JJyg8mXoz90TM_gPLjzKHDE5cEeE97SQ_OG6jmcPBt6F1dypM0VfOD-wsqRf8MJUVESXD2OkPCR_qj1oNyJUwv848IL5tBxE-yPloey9jiTDNewQ1V3hHyOJ8GjHQytF_7R88UR6Yb44s6DOC1mCdfRF1-Kb1WI3IomnIdaJkI3wiOFMs-EPcHH4syh7Tku4kyInMkV-EZImQxOXYIQPszhSWg5fMflBWOmKLjR1wjzo5whJfyGS1fw62gq4hAnHU2OM3iVB6cfPAxOeOugJ5C-H0e_4JF4VEpx_MF1_EejR0f446S2oM6NZtSOLwizK0H_Qc-HWBKDJ0mO5kf4Cdd46PjxKJoV6IwuNOERrsnQE-R0vA9ySfkgaTzC487yCF-ONmfQ7B3OEHdG4XnwJ8iVLYbYREd-g2fS4xd6wc1xGdlTlMfH4I8qsMoUXAIfuMd3PIeUXUZjDaElBUz04cb34cwjTDe2F3GWZEKpD2egHz-eB49yPEs4PIejQ08ePEeO6w8eXdgf2AlyQ7mRe0fbRBJx7gniEKXEQM-HR8jt4_rxEyF9aHnABzmLZwx-XEck6kdz6BLiLAy-PEV1wftxIOyhMtHx4Z3g_PigHpEmNQ7-HPfhg1eQX9CH8DlGUT-eveiJ5iFyydAfNE_UoSRz_Mj3IYyTUcGhE_7xwl1yaK3RZBn6Bw-PHP-Fi-iPvClaMTnOCy8UPoeYeBkuIm9wmejhp_iN8ozANTw6S5BynAru4EfDBw-JikponPGGfIsIVdTRLh-sHDe-RUPf4z3Clgiz6ZB-xMd_OJ3xhugfNA6HSz_yImE24w8epcOPo8nRyzgO-7iYeOg-NBc-JUfTF5eO7wFz5IeeksIRpqqFPvh6fKqOHu8O7-iReYMQOyzxbsX341Myo7ly1MMv_LFQK7OENUzwoMlUnMlxSR_yQ1EjZoStI9-F-zkORTBXhAFjBJCIGWKAEIIQZoxAxiCDHAFAASKIIxQAICRxAgoCiLPACAuggUAwYIAgWhAkhDJCAAAAIYAoQ4hAUAihGFAOMaIAkEAIBBAFQAARgAEUIGEUWBoBoqSXRAEABAICGsckN1IoIwAyjgCGACAUPCAEUQAgIJQQQDEnABJMCSQMMcIYxBAzwiAhFQeKEoeIIEMhA4ESCBjAFCJAYYOcoNIhxaABRhBtgCAAWEAQAYcgo4gwBAigAEBIAGeUpJwAAEAgQCDADEPECECEWIQAhQgFCDHAMAnMAEEMQ9YgCQ0AigiljDCIGGQYZMI4YpS3xigAjAgEYkAQAQYID4AxGCAhFRJAECuwAYQYQABRSgjnCABGOaIs0AphCYCABhAFEFQEGcAUAA4AYQRTQBEDAVCKIQiZApQIggigQABMDBEOU-AE1I4ZAIxDRAAimBAAISKMAI4BLYgyABEgBEFQIAUKAkgRQYhBBAChNAJAG2WcINIYiIACShGDDEVCCOMEYAgIQQACQkkGiANACEkQEUwIRAwwChFHgHCINEWIJMYYCSgAUAhDCASGGOAMkIgYoIgAQimgDCQOGECEQVYIQByQQAskAAAGEKKQQRAYSQRGzA1CAQNUMCckFEgJIBwQAhlGACLACQWcAgoZgRDAjgEgCQNAAgWUUwACKwgxDggFgBEEAGUgIAIQARVSDgBCBGAAIGKUME4AhIBghCJHAEDCEAMEUUAQJRwDwgFijBBEMCMVIh4IQQggkBkoiDHEKGCZAEZD4gAw1iEBoSIAEGSMQYIBgQQ5RAmAhCJEUeQMYoAiZKQADhgwAGISAIEI1YQxQYgASgHlAECGC2QRUAQJIhQDQIBlBEOMQIIQRIgKIxSizAChjFASIAAIYcRKQQAjAhEhBGEIkoOIowBQAIAzwBlgCCOCAMaIcEQYBQAxxAEjiQFIEmcAMIIC')\n"
     ]
    }
   ],
   "source": [
    "#aidmatch('/home/py/projects/tmp/tmp2.mp3')\n",
    "print(acoustid.fingerprint_file('/home/py/projects/tmp/tmp2.mp3'))"
   ]
  },
  {
   "cell_type": "code",
   "execution_count": null,
   "metadata": {
    "collapsed": true
   },
   "outputs": [],
   "source": []
  }
 ],
 "metadata": {
  "kernelspec": {
   "display_name": "Python 3",
   "language": "python",
   "name": "python3"
  },
  "language_info": {
   "codemirror_mode": {
    "name": "ipython",
    "version": 3
   },
   "file_extension": ".py",
   "mimetype": "text/x-python",
   "name": "python",
   "nbconvert_exporter": "python",
   "pygments_lexer": "ipython3",
   "version": "3.5.2"
  }
 },
 "nbformat": 4,
 "nbformat_minor": 0
}
