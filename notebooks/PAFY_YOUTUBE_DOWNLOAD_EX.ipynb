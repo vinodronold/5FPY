{
 "cells": [
  {
   "cell_type": "code",
   "execution_count": 11,
   "metadata": {
    "collapsed": false
   },
   "outputs": [],
   "source": [
    "import pafy\n",
    "\n",
    "url = \"https://www.youtube.com/watch?v=4mpX7vlz21k\"\n",
    "video = pafy.new(url)\n"
   ]
  },
  {
   "cell_type": "code",
   "execution_count": 12,
   "metadata": {
    "collapsed": false
   },
   "outputs": [
    {
     "name": "stdout",
     "output_type": "stream",
     "text": [
      "50k webm 448520\n",
      "70k webm 608211\n",
      "128k m4a 1065691\n",
      "160k webm 1161161\n",
      "128k webm 1126245\n"
     ]
    }
   ],
   "source": [
    "audiostreams = video.audiostreams\n",
    "for a in audiostreams:\n",
    "    print(a.bitrate, a.extension, a.get_filesize())"
   ]
  },
  {
   "cell_type": "code",
   "execution_count": 13,
   "metadata": {
    "collapsed": false
   },
   "outputs": [
    {
     "name": "stdout",
     "output_type": "stream",
     "text": []
    },
    {
     "data": {
      "text/plain": [
       "'c:/temp\\\\Yeno vaanilai maarudhe song lyrics.....AYM.m4a'"
      ]
     },
     "execution_count": 13,
     "metadata": {},
     "output_type": "execute_result"
    }
   ],
   "source": [
    "audiostreams[2].download(filepath=\"c:/temp\")"
   ]
  }
 ],
 "metadata": {
  "kernelspec": {
   "display_name": "Python 3",
   "language": "python",
   "name": "python3"
  },
  "language_info": {
   "codemirror_mode": {
    "name": "ipython",
    "version": 3
   },
   "file_extension": ".py",
   "mimetype": "text/x-python",
   "name": "python",
   "nbconvert_exporter": "python",
   "pygments_lexer": "ipython3",
   "version": "3.5.1"
  }
 },
 "nbformat": 4,
 "nbformat_minor": 0
}
