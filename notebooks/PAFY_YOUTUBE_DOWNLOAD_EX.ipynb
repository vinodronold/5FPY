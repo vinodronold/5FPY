{
 "cells": [
  {
   "cell_type": "code",
   "execution_count": 1,
   "metadata": {
    "collapsed": false
   },
   "outputs": [],
   "source": [
    "import pafy\n",
    "\n",
    "url = \"https://www.youtube.com/watch?v=4mpX7vlz21k\"\n",
    "video = pafy.new(url)\n"
   ]
  },
  {
   "cell_type": "code",
   "execution_count": 8,
   "metadata": {
    "collapsed": false
   },
   "outputs": [
    {
     "name": "stdout",
     "output_type": "stream",
     "text": [
      "50k webm 448520\n",
      "70k webm 608211\n",
      "128k m4a 1065691\n",
      "160k webm 1161161\n",
      "128k webm 1126245\n",
      "http://r5---sn-8xgp1vo-xfge7.googlevideo.com/videoplayback?id=e26a57eef973db59&itag=140&source=youtube&pl=24&initcwndbps=2037500&mn=sn-8xgp1vo-xfge7&mm=31&ms=au&pcm2cms=yes&mv=m&ratebypass=yes&mime=audio/mp4&gir=yes&clen=1065691&lmt=1452393543174518&dur=67.059&key=dg_yt0&fexp=9406012,9406174,9408207,9413142,9416891,9419452,9421733,9422596,9428398,9431012,9433096,9433221,9433946,9435526,9435913,9436221,9436606,9437066,9437178,9437257,9437552,9438327,9438547,9438662,9439476,9439580,9439855,9440233,9440375,9440880,9441413,9441777,9442390,9442424,9442738&sver=3&mt=1470350947&signature=970C9BA79970FD66AAE2FC8BB5621699BD4C72A7.72DB9EA726F017B0E22CD76CA8AA203C6C4D828A&upn=LyGTxccnrmg&ip=98.116.86.33&ipbits=0&expire=1470373078&sparams=ip,ipbits,expire,id,itag,source,pl,initcwndbps,mn,mm,ms,pcm2cms,mv,ratebypass,mime,gir,clen,lmt,dur\n"
     ]
    },
    {
     "data": {
      "text/plain": [
       "'/home/py/projects/tmp/tmp.m4a'"
      ]
     },
     "execution_count": 8,
     "metadata": {},
     "output_type": "execute_result"
    }
   ],
   "source": [
    "audiostreams = video.audiostreams\n",
    "for a in audiostreams:\n",
    "    print(a.bitrate, a.extension, a.get_filesize())\n",
    "    \n",
    "print(audiostreams[2].url)\n",
    "title = audiostreams[2].title\n",
    "audiostreams[2].download(filepath=\"/home/py/projects/tmp/tmp.m4a\")"
   ]
  },
  {
   "cell_type": "code",
   "execution_count": 9,
   "metadata": {
    "collapsed": false
   },
   "outputs": [],
   "source": [
    "%matplotlib inline\n",
    "\n",
    "# Beat tracking example\n",
    "from __future__ import print_function\n",
    "import numpy as np, scipy, matplotlib.pyplot as plt, librosa\n",
    "from IPython.display import Audio\n",
    "\n",
    "# Load the example clip\n",
    "y, sr = librosa.load('/home/py/projects/tmp/tmp.m4a')\n"
   ]
  },
  {
   "cell_type": "code",
   "execution_count": 10,
   "metadata": {
    "collapsed": false
   },
   "outputs": [
    {
     "name": "stdout",
     "output_type": "stream",
     "text": [
      "(1478656,)\n"
     ]
    }
   ],
   "source": [
    "print(y.shape)"
   ]
  },
  {
   "cell_type": "code",
   "execution_count": null,
   "metadata": {
    "collapsed": true
   },
   "outputs": [],
   "source": []
  }
 ],
 "metadata": {
  "kernelspec": {
   "display_name": "Python 3",
   "language": "python",
   "name": "python3"
  },
  "language_info": {
   "codemirror_mode": {
    "name": "ipython",
    "version": 3
   },
   "file_extension": ".py",
   "mimetype": "text/x-python",
   "name": "python",
   "nbconvert_exporter": "python",
   "pygments_lexer": "ipython3",
   "version": "3.5.2"
  }
 },
 "nbformat": 4,
 "nbformat_minor": 0
}
